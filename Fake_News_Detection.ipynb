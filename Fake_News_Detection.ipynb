{
  "cells": [
    {
      "cell_type": "markdown",
      "source": [
        "#The Use of Deep Neural Networks to Determine the Authenticity of News"
      ],
      "metadata": {
        "id": "uc1LXkh-pW-f"
      }
    },
    {
      "cell_type": "markdown",
      "source": [
        "######Tomer Atzili, Riya Boyapati, Kyla Perkinson, Srilasya Poruri"
      ],
      "metadata": {
        "id": "nv_QGb3Lpc88"
      }
    },
    {
      "cell_type": "markdown",
      "source": [
        "## Introduction"
      ],
      "metadata": {
        "id": "iiY3K-Mz1di1"
      }
    },
    {
      "cell_type": "markdown",
      "source": [
        "Fake news is everywhere, especially in recent years as access to technology spreads and the world becomes further politicized. We wish to use a deep learning algorithm to create a model that evaluates a news article to determine its authenticity. Our decided approach is to use a Long Short-Term Memory (LSTM) network as it is well suited for sequential data, which we have with text articles. In terms of representing the written data numerically, we used a pre-trained BERT model to generate embeddings, which values word importance and context in a text. The combination of these methods, with data and text preprocessing, gave us a trainable model that can pick out key characteristics of a fake news article and use them as predictors for determining authenticity of test articles at 96\\% accuracy."
      ],
      "metadata": {
        "id": "2ppDJj-LpRjy"
      }
    },
    {
      "cell_type": "markdown",
      "source": [
        "###Required Libraries"
      ],
      "metadata": {
        "id": "JtcQb-_81jpv"
      }
    },
    {
      "cell_type": "code",
      "execution_count": null,
      "metadata": {
        "id": "Ec8NzLg0Vc7X"
      },
      "outputs": [],
      "source": [
        "%%capture\n",
        "! pip install transformers"
      ]
    },
    {
      "cell_type": "code",
      "execution_count": null,
      "metadata": {
        "id": "JBDWFsXjR0YK"
      },
      "outputs": [],
      "source": [
        "import sys\n",
        "import csv\n",
        "import math\n",
        "import re\n",
        "import time\n",
        "import torch\n",
        "import builtins\n",
        "\n",
        "import pandas as pd\n",
        "import numpy as np\n",
        "import matplotlib.pyplot as plt\n",
        "\n",
        "from collections import Counter\n",
        "from transformers import BertTokenizer, BertModel\n",
        "\n",
        "import torch.nn as nn\n",
        "import torch.optim as optim\n",
        "from torch.utils.data import Dataset, DataLoader\n",
        "\n",
        "from sklearn.metrics import precision_score, recall_score, f1_score, confusion_matrix, ConfusionMatrixDisplay"
      ]
    },
    {
      "cell_type": "code",
      "execution_count": null,
      "metadata": {
        "colab": {
          "base_uri": "https://localhost:8080/"
        },
        "id": "xYASdnR6TM2b",
        "outputId": "82faf27a-3a17-48c3-81d4-b890b47c06ed"
      },
      "outputs": [
        {
          "output_type": "execute_result",
          "data": {
            "text/plain": [
              "131072"
            ]
          },
          "metadata": {},
          "execution_count": 4
        }
      ],
      "source": [
        "csv.field_size_limit(sys.maxsize)"
      ]
    },
    {
      "cell_type": "markdown",
      "source": [
        "##Data Collection"
      ],
      "metadata": {
        "id": "mo5HcoTr10gf"
      }
    },
    {
      "cell_type": "markdown",
      "source": [
        "The dataset that we will be using can be found [here](https://www.kaggle.com/c/fake-news/data?select=train.csv). It consists of 20,800 news articles with are either unreliable (1) or reliable (0). Each news article has a unique id, title, author, text, and label. After preprocessing the data and removing articles with no text, the dataset has 20,761 articles, with 10,284 of those being unreliable and 10,387 of them being reliable."
      ],
      "metadata": {
        "id": "krGNSRbZrFy0"
      }
    },
    {
      "cell_type": "code",
      "execution_count": null,
      "metadata": {
        "colab": {
          "base_uri": "https://localhost:8080/",
          "height": 206
        },
        "id": "hjhnduCbRhn0",
        "outputId": "c43f5fab-375b-41cd-a8e9-20fde46a194e"
      },
      "outputs": [
        {
          "output_type": "execute_result",
          "data": {
            "text/plain": [
              "   id                                              title              author  \\\n",
              "0   0  House Dem Aide: We Didn’t Even See Comey’s Let...       Darrell Lucus   \n",
              "1   1  FLYNN: Hillary Clinton, Big Woman on Campus - ...     Daniel J. Flynn   \n",
              "2   2                  Why the Truth Might Get You Fired  Consortiumnews.com   \n",
              "3   3  15 Civilians Killed In Single US Airstrike Hav...     Jessica Purkiss   \n",
              "4   4  Iranian woman jailed for fictional unpublished...      Howard Portnoy   \n",
              "\n",
              "                                                text  label  \n",
              "0  House Dem Aide: We Didn’t Even See Comey’s Let...      1  \n",
              "1  Ever get the feeling your life circles the rou...      0  \n",
              "2  Why the Truth Might Get You Fired October 29, ...      1  \n",
              "3  Videos 15 Civilians Killed In Single US Airstr...      1  \n",
              "4  Print \\nAn Iranian woman has been sentenced to...      1  "
            ],
            "text/html": [
              "\n",
              "  <div id=\"df-af2dc66f-c81e-406e-8393-b34cde5c99cb\">\n",
              "    <div class=\"colab-df-container\">\n",
              "      <div>\n",
              "<style scoped>\n",
              "    .dataframe tbody tr th:only-of-type {\n",
              "        vertical-align: middle;\n",
              "    }\n",
              "\n",
              "    .dataframe tbody tr th {\n",
              "        vertical-align: top;\n",
              "    }\n",
              "\n",
              "    .dataframe thead th {\n",
              "        text-align: right;\n",
              "    }\n",
              "</style>\n",
              "<table border=\"1\" class=\"dataframe\">\n",
              "  <thead>\n",
              "    <tr style=\"text-align: right;\">\n",
              "      <th></th>\n",
              "      <th>id</th>\n",
              "      <th>title</th>\n",
              "      <th>author</th>\n",
              "      <th>text</th>\n",
              "      <th>label</th>\n",
              "    </tr>\n",
              "  </thead>\n",
              "  <tbody>\n",
              "    <tr>\n",
              "      <th>0</th>\n",
              "      <td>0</td>\n",
              "      <td>House Dem Aide: We Didn’t Even See Comey’s Let...</td>\n",
              "      <td>Darrell Lucus</td>\n",
              "      <td>House Dem Aide: We Didn’t Even See Comey’s Let...</td>\n",
              "      <td>1</td>\n",
              "    </tr>\n",
              "    <tr>\n",
              "      <th>1</th>\n",
              "      <td>1</td>\n",
              "      <td>FLYNN: Hillary Clinton, Big Woman on Campus - ...</td>\n",
              "      <td>Daniel J. Flynn</td>\n",
              "      <td>Ever get the feeling your life circles the rou...</td>\n",
              "      <td>0</td>\n",
              "    </tr>\n",
              "    <tr>\n",
              "      <th>2</th>\n",
              "      <td>2</td>\n",
              "      <td>Why the Truth Might Get You Fired</td>\n",
              "      <td>Consortiumnews.com</td>\n",
              "      <td>Why the Truth Might Get You Fired October 29, ...</td>\n",
              "      <td>1</td>\n",
              "    </tr>\n",
              "    <tr>\n",
              "      <th>3</th>\n",
              "      <td>3</td>\n",
              "      <td>15 Civilians Killed In Single US Airstrike Hav...</td>\n",
              "      <td>Jessica Purkiss</td>\n",
              "      <td>Videos 15 Civilians Killed In Single US Airstr...</td>\n",
              "      <td>1</td>\n",
              "    </tr>\n",
              "    <tr>\n",
              "      <th>4</th>\n",
              "      <td>4</td>\n",
              "      <td>Iranian woman jailed for fictional unpublished...</td>\n",
              "      <td>Howard Portnoy</td>\n",
              "      <td>Print \\nAn Iranian woman has been sentenced to...</td>\n",
              "      <td>1</td>\n",
              "    </tr>\n",
              "  </tbody>\n",
              "</table>\n",
              "</div>\n",
              "      <button class=\"colab-df-convert\" onclick=\"convertToInteractive('df-af2dc66f-c81e-406e-8393-b34cde5c99cb')\"\n",
              "              title=\"Convert this dataframe to an interactive table.\"\n",
              "              style=\"display:none;\">\n",
              "        \n",
              "  <svg xmlns=\"http://www.w3.org/2000/svg\" height=\"24px\"viewBox=\"0 0 24 24\"\n",
              "       width=\"24px\">\n",
              "    <path d=\"M0 0h24v24H0V0z\" fill=\"none\"/>\n",
              "    <path d=\"M18.56 5.44l.94 2.06.94-2.06 2.06-.94-2.06-.94-.94-2.06-.94 2.06-2.06.94zm-11 1L8.5 8.5l.94-2.06 2.06-.94-2.06-.94L8.5 2.5l-.94 2.06-2.06.94zm10 10l.94 2.06.94-2.06 2.06-.94-2.06-.94-.94-2.06-.94 2.06-2.06.94z\"/><path d=\"M17.41 7.96l-1.37-1.37c-.4-.4-.92-.59-1.43-.59-.52 0-1.04.2-1.43.59L10.3 9.45l-7.72 7.72c-.78.78-.78 2.05 0 2.83L4 21.41c.39.39.9.59 1.41.59.51 0 1.02-.2 1.41-.59l7.78-7.78 2.81-2.81c.8-.78.8-2.07 0-2.86zM5.41 20L4 18.59l7.72-7.72 1.47 1.35L5.41 20z\"/>\n",
              "  </svg>\n",
              "      </button>\n",
              "      \n",
              "  <style>\n",
              "    .colab-df-container {\n",
              "      display:flex;\n",
              "      flex-wrap:wrap;\n",
              "      gap: 12px;\n",
              "    }\n",
              "\n",
              "    .colab-df-convert {\n",
              "      background-color: #E8F0FE;\n",
              "      border: none;\n",
              "      border-radius: 50%;\n",
              "      cursor: pointer;\n",
              "      display: none;\n",
              "      fill: #1967D2;\n",
              "      height: 32px;\n",
              "      padding: 0 0 0 0;\n",
              "      width: 32px;\n",
              "    }\n",
              "\n",
              "    .colab-df-convert:hover {\n",
              "      background-color: #E2EBFA;\n",
              "      box-shadow: 0px 1px 2px rgba(60, 64, 67, 0.3), 0px 1px 3px 1px rgba(60, 64, 67, 0.15);\n",
              "      fill: #174EA6;\n",
              "    }\n",
              "\n",
              "    [theme=dark] .colab-df-convert {\n",
              "      background-color: #3B4455;\n",
              "      fill: #D2E3FC;\n",
              "    }\n",
              "\n",
              "    [theme=dark] .colab-df-convert:hover {\n",
              "      background-color: #434B5C;\n",
              "      box-shadow: 0px 1px 3px 1px rgba(0, 0, 0, 0.15);\n",
              "      filter: drop-shadow(0px 1px 2px rgba(0, 0, 0, 0.3));\n",
              "      fill: #FFFFFF;\n",
              "    }\n",
              "  </style>\n",
              "\n",
              "      <script>\n",
              "        const buttonEl =\n",
              "          document.querySelector('#df-af2dc66f-c81e-406e-8393-b34cde5c99cb button.colab-df-convert');\n",
              "        buttonEl.style.display =\n",
              "          google.colab.kernel.accessAllowed ? 'block' : 'none';\n",
              "\n",
              "        async function convertToInteractive(key) {\n",
              "          const element = document.querySelector('#df-af2dc66f-c81e-406e-8393-b34cde5c99cb');\n",
              "          const dataTable =\n",
              "            await google.colab.kernel.invokeFunction('convertToInteractive',\n",
              "                                                     [key], {});\n",
              "          if (!dataTable) return;\n",
              "\n",
              "          const docLinkHtml = 'Like what you see? Visit the ' +\n",
              "            '<a target=\"_blank\" href=https://colab.research.google.com/notebooks/data_table.ipynb>data table notebook</a>'\n",
              "            + ' to learn more about interactive tables.';\n",
              "          element.innerHTML = '';\n",
              "          dataTable['output_type'] = 'display_data';\n",
              "          await google.colab.output.renderOutput(dataTable, element);\n",
              "          const docLink = document.createElement('div');\n",
              "          docLink.innerHTML = docLinkHtml;\n",
              "          element.appendChild(docLink);\n",
              "        }\n",
              "      </script>\n",
              "    </div>\n",
              "  </div>\n",
              "  "
            ]
          },
          "metadata": {},
          "execution_count": 5
        }
      ],
      "source": [
        "train_df = pd.read_csv('train.csv', engine='python')\n",
        "train_df.head()"
      ]
    },
    {
      "cell_type": "code",
      "execution_count": null,
      "metadata": {
        "id": "TBdpJT9WbK0T"
      },
      "outputs": [],
      "source": [
        "# dropping rows with \"na\" in text since this is the feature we are using\n",
        "# dropping rows that only contain blank spaces \n",
        "train_df = train_df[train_df['text'].notna()]\n",
        "train_df = train_df[train_df['text'].apply(lambda x: bool(re.search('[a-zA-Z0-9]', x)))]"
      ]
    },
    {
      "cell_type": "code",
      "execution_count": null,
      "metadata": {
        "colab": {
          "base_uri": "https://localhost:8080/"
        },
        "id": "kSeOM9YRTmps",
        "outputId": "195ed501-18f0-4dcf-c0fa-0a0384ba6720"
      },
      "outputs": [
        {
          "output_type": "stream",
          "name": "stdout",
          "text": [
            "The training dataset contains 20671 news articles.\n",
            "There are 10284 unreliable news sources.\n",
            "There are 10387 reliable news sources.\n"
          ]
        }
      ],
      "source": [
        "print(\"The training dataset contains\", len(train_df['title']), \"news articles.\")\n",
        "print(\"There are\", len(train_df[train_df['label']==1]), \"unreliable news sources.\")\n",
        "print(\"There are\", len(train_df[train_df['label']==0]), \"reliable news sources.\")"
      ]
    },
    {
      "cell_type": "markdown",
      "source": [
        "## Data Processing with BERT"
      ],
      "metadata": {
        "id": "vZzFkxte149L"
      }
    },
    {
      "cell_type": "markdown",
      "metadata": {
        "id": "zPCELBnDGxWd"
      },
      "source": [
        "To represent the news articles numerically, we are using a pre-trained BERT (Bidirectional Encoder Representations from Transformers) model to generate embeddings, which values word importance and context in a text. These embeddings will then be used as input for the LSTM network."
      ]
    },
    {
      "cell_type": "code",
      "execution_count": null,
      "metadata": {
        "colab": {
          "base_uri": "https://localhost:8080/",
          "height": 89
        },
        "id": "meGKKCpfLt0B",
        "outputId": "a74b9b54-d1e8-4b60-885d-99c7437eabc1"
      },
      "outputs": [
        {
          "output_type": "stream",
          "name": "stderr",
          "text": [
            "Some weights of the model checkpoint at bert-base-uncased were not used when initializing BertModel: ['cls.predictions.decoder.weight', 'cls.predictions.transform.LayerNorm.bias', 'cls.predictions.transform.LayerNorm.weight', 'cls.predictions.transform.dense.bias', 'cls.predictions.transform.dense.weight', 'cls.seq_relationship.weight', 'cls.predictions.bias', 'cls.seq_relationship.bias']\n",
            "- This IS expected if you are initializing BertModel from the checkpoint of a model trained on another task or with another architecture (e.g. initializing a BertForSequenceClassification model from a BertForPreTraining model).\n",
            "- This IS NOT expected if you are initializing BertModel from the checkpoint of a model that you expect to be exactly identical (initializing a BertForSequenceClassification model from a BertForSequenceClassification model).\n"
          ]
        }
      ],
      "source": [
        "%%capture\n",
        "tokenizer = BertTokenizer.from_pretrained('bert-base-uncased')\n",
        "model = BertModel.from_pretrained('bert-base-uncased')"
      ]
    },
    {
      "cell_type": "markdown",
      "metadata": {
        "id": "OsB-yBRpZeHs"
      },
      "source": [
        "Before creating word embeddings, we are going to tokenize and pad each article. The tokenizer takes the article as input and returns a list of tokens in the article, which is usually a list of individual words. We then add padding if necessary to ensure that each article is the same length."
      ]
    },
    {
      "cell_type": "code",
      "execution_count": null,
      "metadata": {
        "id": "k3Ks96qIvncq"
      },
      "outputs": [],
      "source": [
        "inputs_list = []\n",
        "max_length=512\n",
        "\n",
        "for article in train_df['text'].tolist():\n",
        "    tokens = tokenizer.tokenize(article)\n",
        "    inputs = tokenizer.encode(tokens, return_tensors='pt', max_length = max_length, padding='max_length')\n",
        "    inputs_list.append(inputs)"
      ]
    },
    {
      "cell_type": "markdown",
      "metadata": {
        "id": "2iFJK-FiZjFm"
      },
      "source": [
        "BERT is now going to take these tokenized articles as input to create word embeddings for each article. These word embeddings will be saved as individual files."
      ]
    },
    {
      "cell_type": "code",
      "execution_count": null,
      "metadata": {
        "colab": {
          "base_uri": "https://localhost:8080/"
        },
        "id": "wI5RYrBWvpEa",
        "outputId": "d23aeca9-9bd1-4de1-87d1-367d01d035ab"
      },
      "outputs": [
        {
          "output_type": "stream",
          "name": "stdout",
          "text": [
            "Embeddings done: 1000\n",
            "33.196216344833374\n",
            "Embeddings done: 2000\n",
            "67.0826210975647\n",
            "Embeddings done: 3000\n",
            "102.59281396865845\n",
            "Embeddings done: 4000\n",
            "140.23281526565552\n",
            "Embeddings done: 5000\n",
            "179.4506721496582\n",
            "Embeddings done: 6000\n",
            "217.87053060531616\n",
            "Embeddings done: 7000\n",
            "256.81212067604065\n",
            "Embeddings done: 8000\n",
            "295.29061102867126\n",
            "Embeddings done: 9000\n",
            "334.1515803337097\n",
            "Embeddings done: 10000\n",
            "372.7720546722412\n",
            "Embeddings done: 11000\n",
            "411.28387570381165\n",
            "Embeddings done: 12000\n",
            "449.77943873405457\n",
            "Embeddings done: 13000\n",
            "488.37514781951904\n",
            "Embeddings done: 14000\n",
            "526.9694283008575\n",
            "Embeddings done: 15000\n",
            "565.5922362804413\n",
            "Embeddings done: 16000\n",
            "604.3628084659576\n",
            "Embeddings done: 17000\n",
            "643.0073375701904\n",
            "Embeddings done: 18000\n",
            "681.711678981781\n",
            "Embeddings done: 19000\n",
            "720.3640661239624\n",
            "Embeddings done: 20000\n",
            "759.0739843845367\n",
            "Total embeddings: 20671\n",
            "785.0363698005676\n"
          ]
        }
      ],
      "source": [
        "outputs_list = []\n",
        "count = 0\n",
        "model.cuda()\n",
        "s = time.time()\n",
        "with torch.no_grad():\n",
        "    for i in range(0, len(inputs_list)):\n",
        "        input = inputs_list[i]\n",
        "        output = model(input[:, :512].cuda())\n",
        "        output = output.last_hidden_state\n",
        "        count = count + 1\n",
        "        # Save outputs_list in batches\n",
        "        torch.save(output, f\"embeddings/outputs_list_{count}.pth\")\n",
        "        # Free up GPU CUDA memory\n",
        "        torch.cuda.empty_cache()\n",
        "        if count % 1000 == 0:\n",
        "            print(f\"Embeddings done: {count}\")\n",
        "            print(time.time() - s)\n",
        "    print(f\"Total embeddings: {count}\")\n",
        "\n",
        "print(time.time() - s)\n"
      ]
    },
    {
      "cell_type": "markdown",
      "source": [
        "## Defining the Model"
      ],
      "metadata": {
        "id": "XdmtsW1D1_zH"
      }
    },
    {
      "cell_type": "markdown",
      "metadata": {
        "id": "OrpRHhzSOeUR"
      },
      "source": [
        "We are now defining hyperparameters and splitting our dataset into train, validation, and testing sets. The split is 70/15/15, so 14,500 training embeddings, 3,100 validation embeddings, and 3,070 testing embeddings. Each embedding has the shape [1, 512, 768]."
      ]
    },
    {
      "cell_type": "code",
      "execution_count": null,
      "metadata": {
        "id": "Zv8wIZ2kIvzs"
      },
      "outputs": [],
      "source": [
        "batch_size = 16\n",
        "embedding_dim = 768\n",
        "num_hidden_nodes = 32\n",
        "num_output_nodes = 1\n",
        "num_layers = 2\n",
        "learning_rate = .0001\n",
        "num_epochs = 12\n",
        "print_every = 10\n",
        "bidirection = True\n",
        "train_split_ct = 14500\n",
        "val_split_ct = 17600\n",
        "test_split_ct = 20670\n",
        "\n",
        "train_labels = train_df['label'].tolist()[:train_split_ct]\n",
        "val_labels = train_df['label'].tolist()[train_split_ct:val_split_ct]\n",
        "test_labels = train_df['label'].tolist()[val_split_ct:test_split_ct]"
      ]
    },
    {
      "cell_type": "markdown",
      "source": [
        "To define the LSTM module, we are inputting the word embeddings into PyTorch's LSTM method, then a fully connected layer, and finally a sigmoid layer, where the output is a number between 0 and 1. If the output is less than or equal to 0.5, the article is classified as reliable, else it is classified as unreliable."
      ],
      "metadata": {
        "id": "R1hfkQtyyuyl"
      }
    },
    {
      "cell_type": "code",
      "execution_count": null,
      "metadata": {
        "id": "ceBG3jUqPfGk"
      },
      "outputs": [],
      "source": [
        "class LSTM(nn.Module):\n",
        "  def __init__(self, embedding_dim, hidden_dim, output_dim, n_layers, bidirectional):\n",
        "    super(LSTM, self).__init__()\n",
        "\n",
        "    self.lstm = nn.LSTM(embedding_dim,\n",
        "                        hidden_dim,\n",
        "                        num_layers=n_layers,\n",
        "                        bidirectional=bidirectional,\n",
        "                        dropout=.2,\n",
        "                        batch_first=True)\n",
        "    \n",
        "    self.fc = nn.Linear(hidden_dim * 2, output_dim)\n",
        "\n",
        "    self.sigmoid = nn.Sigmoid()\n",
        "\n",
        "  def forward(self, input):\n",
        "    input = torch.squeeze(input)\n",
        "    output, (hidden, cell) = self.lstm(input)\n",
        "\n",
        "    hidden = torch.cat((hidden[-2,:,:], hidden[-1,:,:]), dim = 1)\n",
        "\n",
        "    dense_outputs = self.fc(hidden)\n",
        "\n",
        "    outputs = self.sigmoid(dense_outputs)\n",
        "\n",
        "    return outputs\n",
        "\n"
      ]
    },
    {
      "cell_type": "code",
      "execution_count": null,
      "metadata": {
        "colab": {
          "base_uri": "https://localhost:8080/"
        },
        "id": "roQiH_3GUZTV",
        "outputId": "b1992968-4446-4ea6-fb54-b66034e4d33a"
      },
      "outputs": [
        {
          "output_type": "execute_result",
          "data": {
            "text/plain": [
              "LSTM(\n",
              "  (lstm): LSTM(768, 32, num_layers=2, batch_first=True, dropout=0.2, bidirectional=True)\n",
              "  (fc): Linear(in_features=64, out_features=1, bias=True)\n",
              "  (sigmoid): Sigmoid()\n",
              ")"
            ]
          },
          "metadata": {},
          "execution_count": 13
        }
      ],
      "source": [
        "model = LSTM(embedding_dim, num_hidden_nodes, num_output_nodes, num_layers, bidirectional=True)\n",
        "model.cuda()"
      ]
    },
    {
      "cell_type": "code",
      "execution_count": null,
      "metadata": {
        "id": "swzKKQR8UugQ"
      },
      "outputs": [],
      "source": [
        "optimizer = optim.Adam(model.parameters(), lr=learning_rate)\n",
        "criterion = nn.BCELoss()"
      ]
    },
    {
      "cell_type": "markdown",
      "metadata": {
        "id": "JseOLSZz4cXm"
      },
      "source": [
        "###Dataset and Dataloader"
      ]
    },
    {
      "cell_type": "code",
      "execution_count": null,
      "metadata": {
        "id": "mgWZ7iOI4boT"
      },
      "outputs": [],
      "source": [
        "class BERT_dataset(Dataset):\n",
        "    def __init__(self, dir, mode='train'):\n",
        "        self.dir = dir\n",
        "        if mode == 'train':\n",
        "          self.labelList = torch.tensor(train_labels)\n",
        "        elif mode == 'val':\n",
        "          self.labelList = torch.tensor(val_labels)\n",
        "        else:\n",
        "          self.labelList = torch.tensor(test_labels)\n",
        "        self.mode = mode\n",
        "\n",
        "    def __len__(self):\n",
        "        if self.mode == 'train':\n",
        "          return len(train_labels)\n",
        "        elif self.mode == 'val':\n",
        "          return len(val_labels)\n",
        "        else:\n",
        "          return len(test_labels)\n",
        "    \n",
        "    def __getitem__(self, idx):\n",
        "        if self.mode == 'train':   \n",
        "          self.data = torch.load(f\"{self.dir}{idx+1}.pth\")\n",
        "        elif self.mode == 'val':\n",
        "          self.data = torch.load(f\"{self.dir}{idx+train_split_ct+1}.pth\")\n",
        "        else:\n",
        "          self.data = torch.load(f\"{self.dir}{idx+val_split_ct+1}.pth\")\n",
        "        return self.data,self.labelList[idx]"
      ]
    },
    {
      "cell_type": "code",
      "execution_count": null,
      "metadata": {
        "id": "7zIe_RReXa15"
      },
      "outputs": [],
      "source": [
        "trainDataset = BERT_dataset('embeddings/outputs_list_')\n",
        "trainDataloader = DataLoader(trainDataset,batch_size=batch_size,shuffle=True)\n",
        "\n",
        "valDataset = BERT_dataset('embeddings/outputs_list_', mode = 'val')\n",
        "valDataloader = DataLoader(valDataset,batch_size=batch_size,shuffle=True)\n",
        "\n",
        "testDataset = BERT_dataset('embeddings/outputs_list_', mode = 'test')\n",
        "testDataloader = DataLoader(testDataset,batch_size=batch_size,shuffle=False)"
      ]
    },
    {
      "cell_type": "markdown",
      "source": [
        "## Training and Validation"
      ],
      "metadata": {
        "id": "bmdjTTwK5MSp"
      }
    },
    {
      "cell_type": "markdown",
      "source": [
        "The training loop consists of forward propagation and backwards propagation. The loss is calculated after the forward pass and is then used during backwards propagation to update the weights."
      ],
      "metadata": {
        "id": "vFVit8ku0M91"
      }
    },
    {
      "cell_type": "code",
      "execution_count": null,
      "metadata": {
        "id": "7ScYyChFZIac"
      },
      "outputs": [],
      "source": [
        "def trainLoader(model, optimizer, criterion, train_loader):\n",
        "  epoch_loss = 0\n",
        "  num_correct = 0.0\n",
        "  for batch_inputs, batch_labels in train_loader:\n",
        "    # Reset the gradients\n",
        "    optimizer.zero_grad()\n",
        "\n",
        "    # Forward pass\n",
        "    batch_outputs = model(batch_inputs)\n",
        "\n",
        "    # Compute the loss\n",
        "    batch_loss = criterion(torch.squeeze(batch_outputs), batch_labels.float().to(\"cuda\"))\n",
        "\n",
        "    # Backward pass\n",
        "    batch_loss.backward()\n",
        "\n",
        "    # Update the parameters\n",
        "    optimizer.step()\n",
        "\n",
        "    # Update the epoch loss\n",
        "    epoch_loss += batch_loss.item()\n",
        "\n",
        "    # Compute the number of correct predictions\n",
        "    batch_predictions = (torch.squeeze(batch_outputs) >= 0.5).long()\n",
        "    num_correct += (batch_predictions == batch_labels.float().to(\"cuda\")).sum().item()\n",
        "\n",
        "  return epoch_loss, num_correct"
      ]
    },
    {
      "cell_type": "code",
      "execution_count": null,
      "metadata": {
        "id": "HanQJZLwOOoR"
      },
      "outputs": [],
      "source": [
        "plot_train_loss = []\n",
        "def train(model, optimizer, criterion, num_epochs=num_epochs, print_every=print_every):\n",
        "  for epoch in range(num_epochs):\n",
        "    epoch_loss = 0.0\n",
        "    num_correct = 0.0\n",
        "    length = 0\n",
        "\n",
        "    model.train()\n",
        "    length += len(trainDataloader)\n",
        "    batch_epoch_loss, batch_num_correct = trainLoader(model, optimizer, criterion, trainDataloader)\n",
        "    epoch_loss += batch_epoch_loss\n",
        "    num_correct += batch_num_correct\n",
        "\n",
        "\n",
        "    # Compute the average epoch loss\n",
        "    avg_epoch_loss = epoch_loss / length\n",
        "\n",
        "    # Compute training accuracy\n",
        "    train_acc = num_correct / len(trainDataset)\n",
        "\n",
        "    plot_train_loss.append(avg_epoch_loss)\n",
        "\n",
        "    # Print the epoch loss\n",
        "    if epoch % print_every == 0:\n",
        "      print(f\"Epoch {epoch+1}/{num_epochs}, Training Loss: {avg_epoch_loss:.4f}, Training Accuracy: {train_acc:.4f}\")\n",
        "\n",
        "    #Calculate and print Val loss/accuracy\n",
        "    evaluate(model, criterion, valDataloader)"
      ]
    },
    {
      "cell_type": "code",
      "execution_count": null,
      "metadata": {
        "id": "BClJbRH6b1v2"
      },
      "outputs": [],
      "source": [
        "plot_val_loss = []\n",
        "def evaluate(model, criterion, val_loader):\n",
        "  # Put your model in evaluation mode\n",
        "  model.eval()\n",
        "\n",
        "  # Turn off gradient computation for evaluation\n",
        "  with torch.no_grad():\n",
        "      val_loss = 0.0\n",
        "      num_correct = 0\n",
        "\n",
        "      for batch_inputs, batch_labels in val_loader:\n",
        "          # Forward pass\n",
        "          batch_outputs = model(batch_inputs)\n",
        "\n",
        "          # Compute the loss\n",
        "          batch_loss = criterion(torch.squeeze(batch_outputs), batch_labels.float().to(\"cuda\"))\n",
        "\n",
        "          # Update the validation loss\n",
        "          val_loss += batch_loss.item()\n",
        "\n",
        "          # Compute the number of correct predictions\n",
        "          batch_predictions = (torch.squeeze(batch_outputs) >= 0.5).long()\n",
        "          num_correct += (batch_predictions == batch_labels.float().to(\"cuda\")).sum().item()\n",
        "\n",
        "      # Compute the average validation loss\n",
        "      avg_val_loss = val_loss / len(val_loader)\n",
        "      \n",
        "      plot_val_loss.append(avg_val_loss)\n",
        "\n",
        "      # Compute the validation accuracy\n",
        "      val_acc = num_correct / len(valDataset)\n",
        "\n",
        "      # Print the validation loss and accuracy\n",
        "      print(f\"Validation Loss: {avg_val_loss:.4f}, Validation Accuracy: {val_acc:.4f}\")"
      ]
    },
    {
      "cell_type": "code",
      "execution_count": null,
      "metadata": {
        "colab": {
          "base_uri": "https://localhost:8080/"
        },
        "id": "tjGgtLsH8d-_",
        "outputId": "3907bf86-66f3-4cb7-bdc6-d2707dde4b91"
      },
      "outputs": [
        {
          "output_type": "stream",
          "name": "stdout",
          "text": [
            "Epoch 1/12, Training Loss: 0.3537, Training Accuracy: 0.8530\n",
            "Validation Loss: 0.1939, Validation Accuracy: 0.9339\n",
            "Epoch 2/12, Training Loss: 0.1721, Training Accuracy: 0.9412\n",
            "Validation Loss: 0.1540, Validation Accuracy: 0.9413\n",
            "Epoch 3/12, Training Loss: 0.1332, Training Accuracy: 0.9532\n",
            "Validation Loss: 0.1391, Validation Accuracy: 0.9497\n",
            "Epoch 4/12, Training Loss: 0.1059, Training Accuracy: 0.9650\n",
            "Validation Loss: 0.1315, Validation Accuracy: 0.9545\n",
            "Epoch 5/12, Training Loss: 0.0906, Training Accuracy: 0.9713\n",
            "Validation Loss: 0.1314, Validation Accuracy: 0.9565\n",
            "Epoch 6/12, Training Loss: 0.0770, Training Accuracy: 0.9750\n",
            "Validation Loss: 0.1228, Validation Accuracy: 0.9594\n",
            "Epoch 7/12, Training Loss: 0.0631, Training Accuracy: 0.9799\n",
            "Validation Loss: 0.1221, Validation Accuracy: 0.9626\n",
            "Epoch 8/12, Training Loss: 0.0550, Training Accuracy: 0.9829\n",
            "Validation Loss: 0.1614, Validation Accuracy: 0.9458\n",
            "Epoch 9/12, Training Loss: 0.0434, Training Accuracy: 0.9873\n",
            "Validation Loss: 0.1460, Validation Accuracy: 0.9535\n",
            "Epoch 10/12, Training Loss: 0.0376, Training Accuracy: 0.9892\n",
            "Validation Loss: 0.1102, Validation Accuracy: 0.9655\n",
            "Epoch 11/12, Training Loss: 0.0324, Training Accuracy: 0.9907\n",
            "Validation Loss: 0.1186, Validation Accuracy: 0.9629\n",
            "Epoch 12/12, Training Loss: 0.0233, Training Accuracy: 0.9945\n",
            "Validation Loss: 0.1214, Validation Accuracy: 0.9648\n"
          ]
        }
      ],
      "source": [
        "train(model, optimizer, criterion, num_epochs=num_epochs, print_every=1)"
      ]
    },
    {
      "cell_type": "markdown",
      "source": [
        "To see how well the model can generalize to new data, we are going to plot training and validation loss per iteration. Ideally, the training and validation loss should decrease and eventually plateau."
      ],
      "metadata": {
        "id": "zs7pRPDzBqBR"
      }
    },
    {
      "cell_type": "code",
      "source": [
        "\n",
        "plt.plot(np.squeeze(plot_train_loss), 'm', label='Training')\n",
        "plt.plot(np.squeeze(plot_val_loss), 'c', label='Validation')\n",
        "plt.ylabel('Training loss')\n",
        "plt.xlabel('Iterations')\n",
        "plt.title(\"Training and Validation Loss\")\n",
        "plt.legend()\n",
        "plt.show()"
      ],
      "metadata": {
        "colab": {
          "base_uri": "https://localhost:8080/",
          "height": 472
        },
        "id": "H9U62qhw5gI8",
        "outputId": "b043eabd-299e-4419-e070-daf154bf152f"
      },
      "execution_count": null,
      "outputs": [
        {
          "output_type": "display_data",
          "data": {
            "text/plain": [
              "<Figure size 640x480 with 1 Axes>"
            ],
            "image/png": "[encoded data removed]"
          },
          "metadata": {}
        }
      ]
    },
    {
      "cell_type": "markdown",
      "source": [
        "## Testing"
      ],
      "metadata": {
        "id": "5twoyI4-rvM4"
      }
    },
    {
      "cell_type": "markdown",
      "source": [
        "Now we are going to test the model and calculate its accuracy, precision, and recall."
      ],
      "metadata": {
        "id": "_fb9I0XL_gqM"
      }
    },
    {
      "cell_type": "code",
      "source": [
        "def test(model, test_loader):\n",
        "  model.eval()\n",
        "\n",
        "  with torch.no_grad():\n",
        "    num_correct = 0\n",
        "    predictions = []\n",
        "    correct_labels = []\n",
        "\n",
        "    for batch_inputs, batch_labels in test_loader:\n",
        "      batch_outputs = model(batch_inputs)\n",
        "\n",
        "      batch_predictions = (torch.squeeze(batch_outputs) >= 0.5).long()\n",
        "      num_correct += (batch_predictions == batch_labels.float().to(\"cuda\")).sum().item()\n",
        "      predictions.append(batch_predictions.cpu())\n",
        "      correct_labels.append(batch_labels.cpu())\n",
        "\n",
        "  test_acc = num_correct / len(testDataset)\n",
        "  return predictions, correct_labels, test_acc"
      ],
      "metadata": {
        "id": "HMcuLos4BdBP"
      },
      "execution_count": null,
      "outputs": []
    },
    {
      "cell_type": "code",
      "source": [
        "predictions, correct_labels, test_acc = test(model, testDataloader)"
      ],
      "metadata": {
        "id": "mvss81WHt3lN"
      },
      "execution_count": null,
      "outputs": []
    },
    {
      "cell_type": "code",
      "source": [
        "predictions = [pred.item() for batch in predictions for pred in batch]\n",
        "correct_labels = [label.item() for batch in correct_labels for label in batch]"
      ],
      "metadata": {
        "id": "0c75ylQPvtRK"
      },
      "execution_count": null,
      "outputs": []
    },
    {
      "cell_type": "markdown",
      "source": [
        "In the context of our project, accuracy is what percent of news articles are accurately classified, precision is the probability that an article the model classifies as unreliable is actually unreliable, and recall is the probability that an unreliable article is detected by the model. "
      ],
      "metadata": {
        "id": "_nx3gpXi_ywh"
      }
    },
    {
      "cell_type": "code",
      "source": [
        "print(\"The testing accuracy is \", test_acc)"
      ],
      "metadata": {
        "colab": {
          "base_uri": "https://localhost:8080/"
        },
        "id": "3tFdWaZzue5w",
        "outputId": "faf61ef8-13ba-44e1-8f55-cf2677fb44cb"
      },
      "execution_count": null,
      "outputs": [
        {
          "output_type": "stream",
          "name": "stdout",
          "text": [
            "The testing accuracy is  0.962214983713355\n"
          ]
        }
      ]
    },
    {
      "cell_type": "code",
      "source": [
        "print(\"Precision: \", precision_score(correct_labels, predictions))"
      ],
      "metadata": {
        "colab": {
          "base_uri": "https://localhost:8080/"
        },
        "id": "xdpFtZODuhfY",
        "outputId": "7857c2c8-3b62-4572-be86-38a74401c331"
      },
      "execution_count": null,
      "outputs": [
        {
          "output_type": "stream",
          "name": "stdout",
          "text": [
            "Precision:  0.9760479041916168\n"
          ]
        }
      ]
    },
    {
      "cell_type": "code",
      "source": [
        "print(\"Recall: \", recall_score(correct_labels, predictions))"
      ],
      "metadata": {
        "colab": {
          "base_uri": "https://localhost:8080/"
        },
        "id": "TPOisyqTwhVQ",
        "outputId": "04d642b4-2576-4258-b46d-93afa848396e"
      },
      "execution_count": null,
      "outputs": [
        {
          "metadata": {
            "tags": null
          },
          "name": "stdout",
          "output_type": "stream",
          "text": [
            "Recall:  0.9482870071105365\n"
          ]
        }
      ]
    },
    {
      "cell_type": "code",
      "source": [
        "print(\"F1 Score: \", f1_score(correct_labels, predictions))"
      ],
      "metadata": {
        "colab": {
          "base_uri": "https://localhost:8080/"
        },
        "id": "F-z-dc_0imsJ",
        "outputId": "b7c3a342-e1b9-4919-89e0-f8c74032bc87"
      },
      "execution_count": null,
      "outputs": [
        {
          "metadata": {
            "tags": null
          },
          "name": "stdout",
          "output_type": "stream",
          "text": [
            "F1 Score:  0.9619672131147541\n"
          ]
        }
      ]
    },
    {
      "cell_type": "markdown",
      "source": [
        "Below is the confusion matrix, which provides a visual representation of how many examples are correctly and incorrectly labeled for each class."
      ],
      "metadata": {
        "id": "UOK5btbOfX4E"
      }
    },
    {
      "cell_type": "code",
      "source": [
        "cm = confusion_matrix(correct_labels, predictions)\n",
        "disp = ConfusionMatrixDisplay(cm)\n",
        "disp.plot()\n",
        "plt.show()"
      ],
      "metadata": {
        "colab": {
          "base_uri": "https://localhost:8080/",
          "height": 449
        },
        "id": "bMTF61ZP7joM",
        "outputId": "bf67e14c-1174-4cc2-c433-07fe76183025"
      },
      "execution_count": null,
      "outputs": [
        {
          "output_type": "display_data",
          "data": {
            "text/plain": [
              "<Figure size 640x480 with 2 Axes>"
            ],
            "image/png": "[encoded data removed]"
          },
          "metadata": {}
        }
      ]
    },
    {
      "cell_type": "markdown",
      "source": [
        "##Future Work"
      ],
      "metadata": {
        "id": "onFqs-6_APy3"
      }
    },
    {
      "cell_type": "markdown",
      "source": [
        "LSTM's introduce the idea of *attention*, but they are not the most cutting-edge models in the deep-learning community. Currently, transformers, using the idea of *self-attention*, are extremely popular for both image and text processing. These models have been producing great results, and it would be interesting to see how a transformer would perform on our BERT embeddings. BERT itself calculates these embeddings with a transformer architecture. Going beyond our architecture, there are some additional tasks that our model could be well suited for. Other binary text classification tasks, such as checking whether a review is positive or negative, would likely work very well with our model given there exists a good dataset to train on. Another extrapolation would be on spoken news. Fake news is not always written, so it would add to our goal to be able to take in audio files as well as text files for testing. This would likely require implementing a third network suited for speech to text tasks and then processing the text as we have."
      ],
      "metadata": {
        "id": "o-JowaLLBA3g"
      }
    }
  ],
  "metadata": {
    "colab": {
      "machine_shape": "hm",
      "provenance": [],
      "gpuType": "T4"
    },
    "gpuClass": "standard",
    "kernelspec": {
      "display_name": "Python 3",
      "name": "python3"
    },
    "language_info": {
      "name": "python"
    },
    "accelerator": "GPU"
  },
  "nbformat": 4,
  "nbformat_minor": 0
}